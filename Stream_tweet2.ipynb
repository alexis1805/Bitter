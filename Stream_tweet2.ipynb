{
 "cells": [
  {
   "cell_type": "code",
   "execution_count": 4,
   "metadata": {
    "collapsed": false
   },
   "outputs": [
    {
     "name": "stdout",
     "output_type": "stream",
     "text": [
      "$AMZN\n",
      "507.08\n",
      "507.08\n"
     ]
    },
    {
     "ename": "error",
     "evalue": "[Errno 10054] An existing connection was forcibly closed by the remote host",
     "output_type": "error",
     "traceback": [
      "\u001b[1;31m---------------------------------------------------------------------------\u001b[0m",
      "\u001b[1;31merror\u001b[0m                                     Traceback (most recent call last)",
      "\u001b[1;32m<ipython-input-4-94ad2d5574d8>\u001b[0m in \u001b[0;36m<module>\u001b[1;34m()\u001b[0m\n\u001b[0;32m    106\u001b[0m     \u001b[0mauth\u001b[0m\u001b[1;33m.\u001b[0m\u001b[0mset_access_token\u001b[0m\u001b[1;33m(\u001b[0m\u001b[0maccess_token\u001b[0m\u001b[1;33m,\u001b[0m \u001b[0maccess_token_secret\u001b[0m\u001b[1;33m)\u001b[0m\u001b[1;33m\u001b[0m\u001b[0m\n\u001b[0;32m    107\u001b[0m     \u001b[0mstream\u001b[0m \u001b[1;33m=\u001b[0m \u001b[0mStream\u001b[0m\u001b[1;33m(\u001b[0m\u001b[0mauth\u001b[0m\u001b[1;33m,\u001b[0m \u001b[0ml\u001b[0m\u001b[1;33m)\u001b[0m\u001b[1;33m\u001b[0m\u001b[0m\n\u001b[1;32m--> 108\u001b[1;33m     \u001b[0mstream\u001b[0m\u001b[1;33m.\u001b[0m\u001b[0mfilter\u001b[0m\u001b[1;33m(\u001b[0m\u001b[0mtrack\u001b[0m\u001b[1;33m=\u001b[0m\u001b[1;33m[\u001b[0m\u001b[0mname\u001b[0m\u001b[1;33m]\u001b[0m\u001b[1;33m)\u001b[0m\u001b[1;33m\u001b[0m\u001b[0m\n\u001b[0m\u001b[0;32m    109\u001b[0m \u001b[1;33m\u001b[0m\u001b[0m\n\u001b[0;32m    110\u001b[0m \u001b[1;33m\u001b[0m\u001b[0m\n",
      "\u001b[1;32mC:\\Users\\Alexis\\Anaconda2\\lib\\site-packages\\tweepy\\streaming.pyc\u001b[0m in \u001b[0;36mfilter\u001b[1;34m(self, follow, track, async, locations, stall_warnings, languages, encoding, filter_level)\u001b[0m\n\u001b[0;32m    443\u001b[0m         \u001b[0mself\u001b[0m\u001b[1;33m.\u001b[0m\u001b[0msession\u001b[0m\u001b[1;33m.\u001b[0m\u001b[0mparams\u001b[0m \u001b[1;33m=\u001b[0m \u001b[1;33m{\u001b[0m\u001b[1;34m'delimited'\u001b[0m\u001b[1;33m:\u001b[0m \u001b[1;34m'length'\u001b[0m\u001b[1;33m}\u001b[0m\u001b[1;33m\u001b[0m\u001b[0m\n\u001b[0;32m    444\u001b[0m         \u001b[0mself\u001b[0m\u001b[1;33m.\u001b[0m\u001b[0mhost\u001b[0m \u001b[1;33m=\u001b[0m \u001b[1;34m'stream.twitter.com'\u001b[0m\u001b[1;33m\u001b[0m\u001b[0m\n\u001b[1;32m--> 445\u001b[1;33m         \u001b[0mself\u001b[0m\u001b[1;33m.\u001b[0m\u001b[0m_start\u001b[0m\u001b[1;33m(\u001b[0m\u001b[0masync\u001b[0m\u001b[1;33m)\u001b[0m\u001b[1;33m\u001b[0m\u001b[0m\n\u001b[0m\u001b[0;32m    446\u001b[0m \u001b[1;33m\u001b[0m\u001b[0m\n\u001b[0;32m    447\u001b[0m     def sitestream(self, follow, stall_warnings=False,\n",
      "\u001b[1;32mC:\\Users\\Alexis\\Anaconda2\\lib\\site-packages\\tweepy\\streaming.pyc\u001b[0m in \u001b[0;36m_start\u001b[1;34m(self, async)\u001b[0m\n\u001b[0;32m    359\u001b[0m             \u001b[0mself\u001b[0m\u001b[1;33m.\u001b[0m\u001b[0m_thread\u001b[0m\u001b[1;33m.\u001b[0m\u001b[0mstart\u001b[0m\u001b[1;33m(\u001b[0m\u001b[1;33m)\u001b[0m\u001b[1;33m\u001b[0m\u001b[0m\n\u001b[0;32m    360\u001b[0m         \u001b[1;32melse\u001b[0m\u001b[1;33m:\u001b[0m\u001b[1;33m\u001b[0m\u001b[0m\n\u001b[1;32m--> 361\u001b[1;33m             \u001b[0mself\u001b[0m\u001b[1;33m.\u001b[0m\u001b[0m_run\u001b[0m\u001b[1;33m(\u001b[0m\u001b[1;33m)\u001b[0m\u001b[1;33m\u001b[0m\u001b[0m\n\u001b[0m\u001b[0;32m    362\u001b[0m \u001b[1;33m\u001b[0m\u001b[0m\n\u001b[0;32m    363\u001b[0m     \u001b[1;32mdef\u001b[0m \u001b[0mon_closed\u001b[0m\u001b[1;33m(\u001b[0m\u001b[0mself\u001b[0m\u001b[1;33m,\u001b[0m \u001b[0mresp\u001b[0m\u001b[1;33m)\u001b[0m\u001b[1;33m:\u001b[0m\u001b[1;33m\u001b[0m\u001b[0m\n",
      "\u001b[1;32mC:\\Users\\Alexis\\Anaconda2\\lib\\site-packages\\tweepy\\streaming.pyc\u001b[0m in \u001b[0;36m_run\u001b[1;34m(self)\u001b[0m\n\u001b[0;32m    292\u001b[0m             \u001b[1;31m# call a handler first so that the exception can be logged.\u001b[0m\u001b[1;33m\u001b[0m\u001b[1;33m\u001b[0m\u001b[0m\n\u001b[0;32m    293\u001b[0m             \u001b[0mself\u001b[0m\u001b[1;33m.\u001b[0m\u001b[0mlistener\u001b[0m\u001b[1;33m.\u001b[0m\u001b[0mon_exception\u001b[0m\u001b[1;33m(\u001b[0m\u001b[0mexception\u001b[0m\u001b[1;33m)\u001b[0m\u001b[1;33m\u001b[0m\u001b[0m\n\u001b[1;32m--> 294\u001b[1;33m             \u001b[1;32mraise\u001b[0m \u001b[0mexception\u001b[0m\u001b[1;33m\u001b[0m\u001b[0m\n\u001b[0m\u001b[0;32m    295\u001b[0m \u001b[1;33m\u001b[0m\u001b[0m\n\u001b[0;32m    296\u001b[0m     \u001b[1;32mdef\u001b[0m \u001b[0m_data\u001b[0m\u001b[1;33m(\u001b[0m\u001b[0mself\u001b[0m\u001b[1;33m,\u001b[0m \u001b[0mdata\u001b[0m\u001b[1;33m)\u001b[0m\u001b[1;33m:\u001b[0m\u001b[1;33m\u001b[0m\u001b[0m\n",
      "\u001b[1;31merror\u001b[0m: [Errno 10054] An existing connection was forcibly closed by the remote host"
     ]
    }
   ],
   "source": [
    "from tweepy.streaming import StreamListener\n",
    "from tweepy import OAuthHandler\n",
    "from tweepy import Stream\n",
    "import tweepy\n",
    "import pymysql\n",
    "import time\n",
    "import json\n",
    "import sys\n",
    "import re\n",
    "import urllib2 as ul\n",
    "from bs4 import BeautifulSoup\n",
    "\n",
    "name = '$AMZN'\n",
    "\n",
    "conn = pymysql.connect(host=\"localhost\",port=3306,user=\"root\",passwd=\"root\",charset='utf8')\n",
    "c = conn.cursor()\n",
    "\n",
    "c.execute('CREATE DATABASE if not exists tweet_data')\n",
    "c.execute('USE tweet_data')\n",
    "c.execute('SET NAMES utf8;')\n",
    "c.execute('SET CHARACTER SET utf8;')\n",
    "c.execute('SET character_set_connection=utf8;')\n",
    "\n",
    "table_name=name.replace (\" \", \"_\")\n",
    "print(table_name)\n",
    "query='CREATE TABLE IF NOT EXISTS ' + table_name + ' (time varchar(30),username varchar(40), tweet varchar(300),sentiment varchar(10));' \n",
    "\n",
    "c.execute(query)\n",
    "\n",
    "consumer_key = \"oWwj4n238NZ8Y7EvuaEDxy1sa\"\n",
    "consumer_secret = \"eKZQnTjKxRh1ZMjueF7excNwBHMuqkQpbxvKtUj2Y2UXHFUbd0\"\n",
    "access_token= \"3397148596-udefnWb7gUddt6ADanLCNV6opCXhglJfVMV5Kai\"\n",
    "access_token_secret = \"lVfKlGnd9SK0HdJ6giGDFbzz3dO3LU96Uk7ili4mUoXVB\"\n",
    "\n",
    "def score(text, wgood,wbad):\n",
    "    count=0\n",
    "    for oneWord in wgood:\n",
    "        if oneWord in text.lower():\n",
    "            count+=1\n",
    "    for oneWord in wbad:\n",
    "        if oneWord in text.lower():\n",
    "            count-=1\n",
    "    if count>0:\n",
    "        return 1\n",
    "    elif count<0:\n",
    "        return -1\n",
    "    elif count==0:\n",
    "        return 0\n",
    "\n",
    "def liveprice(ticker):\n",
    "    import time\n",
    "    ticker=name\n",
    "    #date format    07 29 15 for 2015\n",
    "    month=int(time.strftime('%m'))+1\n",
    "    day=int(time.strftime('%d'))\n",
    "    year=int(time.strftime('%Y'))\n",
    "    ticker=ticker.lower()\n",
    "    url='http://finance.yahoo.com/q?uhb=uhb2&fr=uh3_finance_vert_gs&type=2button&s=' + ticker[1::]\n",
    "    #url='http://finance.yahoo.com/q/hp?s='+ str(ticker) +'&a='+str(month-1)+'&b='+str(day)+'&c='+str(year)+'&d='+str(month-1)+'&e='+str(day)+'&f='+str(year) +'&g=d'\n",
    "    url_response=ul.urlopen(url,timeout=5)\n",
    "    yahoo_data = BeautifulSoup(url_response)\n",
    "    data=yahoo_data.findAll('span',{\"class\":\"time_rtq_ticker\" })\n",
    "    pattern=ticker[1::]+'\">(.+?)</span>'\n",
    "    regex = re.compile(pattern)\n",
    "    live=regex.findall(str(data))\n",
    "    type(float(live[0]))\n",
    "    a=float(live[0])\n",
    "    print(a)\n",
    "    return a\n",
    "\n",
    "class StdOutListener(StreamListener):\n",
    "\n",
    "    def __init__(self, name):\n",
    "        self.name = str(name) \n",
    "        \n",
    "    def on_data(self, data):\n",
    "\n",
    "        all_data=json.loads(data)\n",
    "        tweet=all_data['text']\n",
    "        username = all_data[\"user\"][\"screen_name\"]\n",
    "\n",
    "        #Improve it with lemmetizing from nltk.\n",
    "\n",
    "        good=['building', 'reaffirmed', 'profits', 'trending', 'top', 'gains', 'bounce', 'high', 'oversold','winners','winner','upside','sales up','very nice','nice','outstanding','bought','trending','trend','great','big','stunning','highes','buy','long','bull','aggressive','holding','popular','fire','outperform','happy','thanks','right','top gainer']\n",
    "        bad=['bumpy', 'ugly', 'danger', 'risky', 'troubles', 'never buy', 'low', 'bottom', 'selloff', 'sell-off', 'worthless', 'downgrade', 'ugly', 'ugliest','shortsqueeze','downside','loss','slide','risk','flop','sold','selling','bad','wierd','sell','stop','bubble','bear','odd','down','downtrend','pullback','downgraded','bad','short','no profit','fall','put','not very']\n",
    "        \n",
    "        query_test=(\"INSERT INTO %s (time,username,tweet,sentiment) VALUES \" % table_name)\n",
    "        query_test+=\"(curdate(),%s,%s,%s);\"\n",
    "        c.execute (query_test, (username,tweet,score(tweet,good,bad)))\n",
    "        conn.commit()\n",
    "        output = open('tweet_data_'+name+'.txt','a')\n",
    "        output.write(str(score(tweet,good,bad))+' '+str(liveprice(name)))\n",
    "        output.write('\\n')\n",
    "        output.close()\n",
    "        return True\n",
    "\n",
    "    def on_error(self, status):\n",
    "        print status\n",
    "\n",
    "        \n",
    "\n",
    "if __name__ == '__main__':\n",
    "    \n",
    "    l = StdOutListener(StreamListener)\n",
    "    auth = OAuthHandler(consumer_key, consumer_secret)\n",
    "    auth.set_access_token(access_token, access_token_secret)\n",
    "    stream = Stream(auth, l)\n",
    "    stream.filter(track=[name])\n",
    "\n",
    "\n",
    "     "
   ]
  },
  {
   "cell_type": "code",
   "execution_count": null,
   "metadata": {
    "collapsed": false
   },
   "outputs": [],
   "source": []
  },
  {
   "cell_type": "code",
   "execution_count": null,
   "metadata": {
    "collapsed": true
   },
   "outputs": [],
   "source": []
  }
 ],
 "metadata": {
  "anaconda-cloud": {},
  "kernelspec": {
   "display_name": "Python [Root]",
   "language": "python",
   "name": "Python [Root]"
  },
  "language_info": {
   "codemirror_mode": {
    "name": "ipython",
    "version": 3
   },
   "file_extension": ".py",
   "mimetype": "text/x-python",
   "name": "python",
   "nbconvert_exporter": "python",
   "pygments_lexer": "ipython3",
   "version": "3.5.2"
  }
 },
 "nbformat": 4,
 "nbformat_minor": 0
}
